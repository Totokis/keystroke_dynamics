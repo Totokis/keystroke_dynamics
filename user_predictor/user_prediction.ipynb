{
 "cells": [
  {
   "cell_type": "code",
   "execution_count": 35,
   "id": "bbd70beb",
   "metadata": {},
   "outputs": [],
   "source": [
    " # Keystroke recognition"
   ]
  },
  {
   "cell_type": "code",
   "execution_count": 36,
   "id": "b921b802",
   "metadata": {},
   "outputs": [],
   "source": [
    "import sys\n",
    "import os\n",
    "import random\n",
    "\n",
    "import numpy as np\n",
    "import pandas as pd\n",
    "import matplotlib.pyplot as plt\n",
    "import seaborn as sns\n",
    "%matplotlib inline\n",
    "\n",
    "from sklearn.metrics import classification_report, confusion_matrix\n",
    "from sklearn.model_selection import train_test_split\n",
    "from sklearn.model_selection import StratifiedKFold\n",
    "from sklearn.metrics import accuracy_score\n",
    "from sklearn.preprocessing import StandardScaler\n",
    "from sklearn.preprocessing import MinMaxScaler\n",
    "\n",
    "from sklearn.svm import SVC\n",
    "from sklearn.neighbors import KNeighborsClassifier\n",
    "# For ANN\n",
    "import tensorflow as tf\n",
    "from tensorflow.keras.models import Sequential\n",
    "from tensorflow.keras.layers import Dense, Dropout\n",
    "import pickle\n",
    "\n",
    "from io import StringIO\n",
    "\n",
    "pd.options.display.max_rows = 30\n",
    "pd.options.display.max_columns = 30"
   ]
  },
  {
   "cell_type": "code",
   "execution_count": 37,
   "id": "32778f35",
   "metadata": {},
   "outputs": [],
   "source": [
    "impostor_file_name = str(sys.argv[1])\n",
    "keys = [\"'q'\", \"'w'\", \"'e'\", \"'r'\", \"'t'\", \"'y'\", \"'u'\", \"'i'\", \"'o'\", \"'p'\", \"'a'\", \"'s'\", \"'d'\", \"'f'\", \"'g'\", \"'h'\", \"'j'\", \"'k'\", \"'l'\", \"'z'\", \"'x'\", \"'c'\", \"'v'\", \"'b'\", \"'n'\", \"'m'\"]"
   ]
  },
  {
   "cell_type": "code",
   "execution_count": 38,
   "id": "60c16409",
   "metadata": {},
   "outputs": [],
   "source": [
    "class KeyboardAction:\n",
    "    def __init__(self, action_time, key_type, action_type):\n",
    "        self.action_time = action_time\n",
    "        self.key_type = key_type\n",
    "        self.action_type = action_type"
   ]
  },
  {
   "cell_type": "code",
   "execution_count": 39,
   "id": "5908916e",
   "metadata": {},
   "outputs": [],
   "source": [
    "def get_keyboard_actions(lines):\n",
    "    keyboard_actions = []\n",
    "\n",
    "    for line in lines:\n",
    "        values = line.split()\n",
    "        keyboard_actions.append(KeyboardAction(float(values[0]), values[1], values[2]))\n",
    "    return keyboard_actions"
   ]
  },
  {
   "cell_type": "code",
   "execution_count": 40,
   "id": "90519a9f",
   "metadata": {},
   "outputs": [],
   "source": [
    "class UserAction:\n",
    "    def __init__(self, key_type, duration, press_time):\n",
    "        self.key_type = key_type\n",
    "        self.duration = duration\n",
    "        self.press_time = press_time\n",
    "        self.previous_time = None\n",
    "        self.next_time = None\n",
    "    \n",
    "    def set_previous(self, previous_time):\n",
    "        self.previous_time = previous_time\n",
    "        \n",
    "    def set_next(self, next_time):\n",
    "        self.next_time = next_time\n",
    "        \n",
    "    def set_user_id(self, user_id):\n",
    "        self.user_id = user_id"
   ]
  },
  {
   "cell_type": "code",
   "execution_count": 41,
   "id": "92e3c57a",
   "metadata": {
    "scrolled": false
   },
   "outputs": [],
   "source": [
    "def get_user_actions(keyboard_actions):\n",
    "\n",
    "    currently_pressed = {}\n",
    "    user_actions = []\n",
    "\n",
    "    for action in keyboard_actions:\n",
    "        if action.action_type == \"PRESS\":\n",
    "            if(action.key_type not in currently_pressed):\n",
    "                currently_pressed[action.key_type] = action.action_time\n",
    "        elif action.action_type == \"RELEASE\":\n",
    "            if action.key_type in currently_pressed:\n",
    "                duration = action.action_time - currently_pressed[action.key_type]\n",
    "                user_actions.append(UserAction(action.key_type, duration, currently_pressed[action.key_type]))\n",
    "                currently_pressed.pop(action.key_type, None)\n",
    "        #else:\n",
    "        #    print(f\"Unexpected action: {action.action_type}\")\n",
    "            \n",
    "    user_actions.sort(key=lambda x: x.press_time)\n",
    "    for i in range(1, len(user_actions) - 2):\n",
    "        user_actions[i].set_previous(user_actions[i-1].press_time)\n",
    "        user_actions[i].set_next(user_actions[i+1].press_time)\n",
    "    \n",
    "    return user_actions"
   ]
  },
  {
   "cell_type": "code",
   "execution_count": 42,
   "id": "2d67d3d1",
   "metadata": {},
   "outputs": [],
   "source": [
    "def get_user_actions_from_file(file_name):\n",
    "    with open(file_name, encoding=\"ISO-8859-1\") as f:\n",
    "        lines = f.readlines()\n",
    "        \n",
    "    keyboard_actions = get_keyboard_actions(lines)\n",
    "    user_actions = get_user_actions(keyboard_actions)\n",
    "    for uaction in user_actions:\n",
    "        uaction.set_user_id(users_to_id[file_name.split('_')[1]])\n",
    "    return user_actions"
   ]
  },
  {
   "cell_type": "code",
   "execution_count": 43,
   "id": "374771e1",
   "metadata": {},
   "outputs": [],
   "source": [
    "def get_csvs_from_user_actions(user_actions):\n",
    "    csvs = dict.fromkeys(keys, '')\n",
    "\n",
    "    for key, value in csvs.items():\n",
    "        csvs[key] = 'subject,duration,prev_time,next_time'\n",
    "\n",
    "    for uaction in user_actions:\n",
    "        key = uaction.key_type.lower()\n",
    "        if key in keys:\n",
    "            from_previous = uaction.press_time - uaction.previous_time if uaction.previous_time is not None else None\n",
    "            to_next = uaction.next_time - uaction.press_time if uaction.next_time is not None else None\n",
    "\n",
    "            if uaction.duration is not None and from_previous is not None and to_next is not None and uaction.duration < 1.0 and from_previous < 1.0 and to_next < 1.0:\n",
    "                csvs[key] = csvs[key] + f'\\n{uaction.user_id},{uaction.duration},{from_previous},{to_next}'\n",
    "    return csvs"
   ]
  },
  {
   "cell_type": "code",
   "execution_count": 44,
   "id": "4162455c",
   "metadata": {
    "scrolled": true
   },
   "outputs": [
    {
     "ename": "FileNotFoundError",
     "evalue": "[Errno 2] No such file or directory: '-f'",
     "output_type": "error",
     "traceback": [
      "\u001b[1;31m---------------------------------------------------------------------------\u001b[0m",
      "\u001b[1;31mFileNotFoundError\u001b[0m                         Traceback (most recent call last)",
      "\u001b[1;32m~\\AppData\\Local\\Temp\\ipykernel_16792\\4187777380.py\u001b[0m in \u001b[0;36m<module>\u001b[1;34m\u001b[0m\n\u001b[0;32m     24\u001b[0m \u001b[0mcsvs\u001b[0m \u001b[1;33m=\u001b[0m \u001b[0mget_csvs_from_user_actions\u001b[0m\u001b[1;33m(\u001b[0m\u001b[0mall_user_actions\u001b[0m\u001b[1;33m)\u001b[0m\u001b[1;33m\u001b[0m\u001b[1;33m\u001b[0m\u001b[0m\n\u001b[0;32m     25\u001b[0m \u001b[1;33m\u001b[0m\u001b[0m\n\u001b[1;32m---> 26\u001b[1;33m \u001b[0muactions_imp\u001b[0m \u001b[1;33m=\u001b[0m \u001b[0mget_user_actions_from_file\u001b[0m\u001b[1;33m(\u001b[0m\u001b[0mimpostor_file_name\u001b[0m\u001b[1;33m)\u001b[0m\u001b[1;33m\u001b[0m\u001b[1;33m\u001b[0m\u001b[0m\n\u001b[0m\u001b[0;32m     27\u001b[0m \u001b[0mcsv_imp\u001b[0m \u001b[1;33m=\u001b[0m \u001b[0mget_csvs_from_user_actions\u001b[0m\u001b[1;33m(\u001b[0m\u001b[0muactions_imp\u001b[0m\u001b[1;33m)\u001b[0m\u001b[1;33m\u001b[0m\u001b[1;33m\u001b[0m\u001b[0m\n",
      "\u001b[1;32m~\\AppData\\Local\\Temp\\ipykernel_16792\\2897000909.py\u001b[0m in \u001b[0;36mget_user_actions_from_file\u001b[1;34m(file_name)\u001b[0m\n\u001b[0;32m      1\u001b[0m \u001b[1;32mdef\u001b[0m \u001b[0mget_user_actions_from_file\u001b[0m\u001b[1;33m(\u001b[0m\u001b[0mfile_name\u001b[0m\u001b[1;33m)\u001b[0m\u001b[1;33m:\u001b[0m\u001b[1;33m\u001b[0m\u001b[1;33m\u001b[0m\u001b[0m\n\u001b[1;32m----> 2\u001b[1;33m     \u001b[1;32mwith\u001b[0m \u001b[0mopen\u001b[0m\u001b[1;33m(\u001b[0m\u001b[0mfile_name\u001b[0m\u001b[1;33m,\u001b[0m \u001b[0mencoding\u001b[0m\u001b[1;33m=\u001b[0m\u001b[1;34m\"ISO-8859-1\"\u001b[0m\u001b[1;33m)\u001b[0m \u001b[1;32mas\u001b[0m \u001b[0mf\u001b[0m\u001b[1;33m:\u001b[0m\u001b[1;33m\u001b[0m\u001b[1;33m\u001b[0m\u001b[0m\n\u001b[0m\u001b[0;32m      3\u001b[0m         \u001b[0mlines\u001b[0m \u001b[1;33m=\u001b[0m \u001b[0mf\u001b[0m\u001b[1;33m.\u001b[0m\u001b[0mreadlines\u001b[0m\u001b[1;33m(\u001b[0m\u001b[1;33m)\u001b[0m\u001b[1;33m\u001b[0m\u001b[1;33m\u001b[0m\u001b[0m\n\u001b[0;32m      4\u001b[0m \u001b[1;33m\u001b[0m\u001b[0m\n\u001b[0;32m      5\u001b[0m     \u001b[0mkeyboard_actions\u001b[0m \u001b[1;33m=\u001b[0m \u001b[0mget_keyboard_actions\u001b[0m\u001b[1;33m(\u001b[0m\u001b[0mlines\u001b[0m\u001b[1;33m)\u001b[0m\u001b[1;33m\u001b[0m\u001b[1;33m\u001b[0m\u001b[0m\n",
      "\u001b[1;31mFileNotFoundError\u001b[0m: [Errno 2] No such file or directory: '-f'"
     ]
    }
   ],
   "source": [
    "pylogger_files = []\n",
    "for file in os.listdir():\n",
    "    if file.startswith('pylogger') and file.endswith('.log'):\n",
    "        pylogger_files.append(file)\n",
    "\n",
    "users = set()\n",
    "for file_name in pylogger_files:\n",
    "    if file_name is not impostor_file_name:\n",
    "        splitted = file_name.split('_')\n",
    "        users.add(splitted[1])\n",
    "\n",
    "ids = list(range(len(users)))\n",
    "users_to_id = dict(zip(users,ids))\n",
    "\n",
    "pylogger_files = []\n",
    "for file in os.listdir():\n",
    "    if file.startswith('pylogger') and file.endswith('.log') and file is not impostor_file_name:\n",
    "        pylogger_files.append(file)\n",
    "\n",
    "all_user_actions = []\n",
    "for file_name in pylogger_files:\n",
    "    all_user_actions.append(get_user_actions_from_file(file_name))\n",
    "all_user_actions = sum(all_user_actions, [])\n",
    "csvs = get_csvs_from_user_actions(all_user_actions)\n",
    "\n",
    "uactions_imp = get_user_actions_from_file(impostor_file_name)\n",
    "csv_imp = get_csvs_from_user_actions(uactions_imp)"
   ]
  },
  {
   "cell_type": "code",
   "execution_count": 46,
   "id": "ee9470b4",
   "metadata": {},
   "outputs": [
    {
     "ename": "NameError",
     "evalue": "name 'csv_imp' is not defined",
     "output_type": "error",
     "traceback": [
      "\u001b[1;31m---------------------------------------------------------------------------\u001b[0m",
      "\u001b[1;31mNameError\u001b[0m                                 Traceback (most recent call last)",
      "\u001b[1;32m~\\AppData\\Local\\Temp\\ipykernel_16792\\3762696503.py\u001b[0m in \u001b[0;36m<module>\u001b[1;34m\u001b[0m\n\u001b[0;32m      5\u001b[0m     \u001b[0mdfs\u001b[0m\u001b[1;33m[\u001b[0m\u001b[0mkey\u001b[0m\u001b[1;33m]\u001b[0m \u001b[1;33m=\u001b[0m \u001b[0mpd\u001b[0m\u001b[1;33m.\u001b[0m\u001b[0mread_csv\u001b[0m\u001b[1;33m(\u001b[0m\u001b[0mTESTDATA\u001b[0m\u001b[1;33m,\u001b[0m \u001b[0msep\u001b[0m\u001b[1;33m=\u001b[0m\u001b[1;34m\",\"\u001b[0m\u001b[1;33m)\u001b[0m\u001b[1;33m\u001b[0m\u001b[1;33m\u001b[0m\u001b[0m\n\u001b[0;32m      6\u001b[0m \u001b[1;33m\u001b[0m\u001b[0m\n\u001b[1;32m----> 7\u001b[1;33m     \u001b[0mTESTDATA_imp\u001b[0m \u001b[1;33m=\u001b[0m \u001b[0mStringIO\u001b[0m\u001b[1;33m(\u001b[0m\u001b[1;34mf\"\"\"{csv_imp[key]}\"\"\"\u001b[0m\u001b[1;33m)\u001b[0m\u001b[1;33m\u001b[0m\u001b[1;33m\u001b[0m\u001b[0m\n\u001b[0m\u001b[0;32m      8\u001b[0m     \u001b[0mdfs_imp\u001b[0m\u001b[1;33m[\u001b[0m\u001b[0mkey\u001b[0m\u001b[1;33m]\u001b[0m \u001b[1;33m=\u001b[0m \u001b[0mpd\u001b[0m\u001b[1;33m.\u001b[0m\u001b[0mread_csv\u001b[0m\u001b[1;33m(\u001b[0m\u001b[0mTESTDATA_imp\u001b[0m\u001b[1;33m,\u001b[0m \u001b[0msep\u001b[0m\u001b[1;33m=\u001b[0m\u001b[1;34m\",\"\u001b[0m\u001b[1;33m)\u001b[0m\u001b[1;33m\u001b[0m\u001b[1;33m\u001b[0m\u001b[0m\n",
      "\u001b[1;31mNameError\u001b[0m: name 'csv_imp' is not defined"
     ]
    }
   ],
   "source": [
    "dfs = {}\n",
    "dfs_imp = {}\n",
    "for key in keys:\n",
    "    TESTDATA = StringIO(f\"\"\"{csvs[key]}\"\"\")\n",
    "    dfs[key] = pd.read_csv(TESTDATA, sep=\",\")\n",
    "    \n",
    "    TESTDATA_imp = StringIO(f\"\"\"{csv_imp[key]}\"\"\")\n",
    "    dfs_imp[key] = pd.read_csv(TESTDATA_imp, sep=\",\")"
   ]
  },
  {
   "cell_type": "code",
   "execution_count": 47,
   "id": "bf03fb7a",
   "metadata": {},
   "outputs": [
    {
     "ename": "KeyError",
     "evalue": "\"'q'\"",
     "output_type": "error",
     "traceback": [
      "\u001b[1;31m---------------------------------------------------------------------------\u001b[0m",
      "\u001b[1;31mKeyError\u001b[0m                                  Traceback (most recent call last)",
      "\u001b[1;32m~\\AppData\\Local\\Temp\\ipykernel_16792\\442917269.py\u001b[0m in \u001b[0;36m<module>\u001b[1;34m\u001b[0m\n\u001b[0;32m      7\u001b[0m     \u001b[0mXs\u001b[0m\u001b[1;33m[\u001b[0m\u001b[0mkey\u001b[0m\u001b[1;33m]\u001b[0m \u001b[1;33m=\u001b[0m \u001b[0mdfs\u001b[0m\u001b[1;33m[\u001b[0m\u001b[0mkey\u001b[0m\u001b[1;33m]\u001b[0m\u001b[1;33m.\u001b[0m\u001b[0mdrop\u001b[0m\u001b[1;33m(\u001b[0m\u001b[1;34m'subject'\u001b[0m\u001b[1;33m,\u001b[0m \u001b[0maxis\u001b[0m\u001b[1;33m=\u001b[0m\u001b[1;36m1\u001b[0m\u001b[1;33m)\u001b[0m\u001b[1;33m\u001b[0m\u001b[1;33m\u001b[0m\u001b[0m\n\u001b[0;32m      8\u001b[0m     \u001b[0mys\u001b[0m\u001b[1;33m[\u001b[0m\u001b[0mkey\u001b[0m\u001b[1;33m]\u001b[0m \u001b[1;33m=\u001b[0m \u001b[0mdfs\u001b[0m\u001b[1;33m[\u001b[0m\u001b[0mkey\u001b[0m\u001b[1;33m]\u001b[0m\u001b[1;33m[\u001b[0m\u001b[1;34m'subject'\u001b[0m\u001b[1;33m]\u001b[0m\u001b[1;33m\u001b[0m\u001b[1;33m\u001b[0m\u001b[0m\n\u001b[1;32m----> 9\u001b[1;33m     \u001b[0mXs_imp\u001b[0m\u001b[1;33m[\u001b[0m\u001b[0mkey\u001b[0m\u001b[1;33m]\u001b[0m \u001b[1;33m=\u001b[0m \u001b[0mdfs_imp\u001b[0m\u001b[1;33m[\u001b[0m\u001b[0mkey\u001b[0m\u001b[1;33m]\u001b[0m\u001b[1;33m.\u001b[0m\u001b[0mdrop\u001b[0m\u001b[1;33m(\u001b[0m\u001b[1;34m'subject'\u001b[0m\u001b[1;33m,\u001b[0m \u001b[0maxis\u001b[0m\u001b[1;33m=\u001b[0m\u001b[1;36m1\u001b[0m\u001b[1;33m)\u001b[0m\u001b[1;33m\u001b[0m\u001b[1;33m\u001b[0m\u001b[0m\n\u001b[0m\u001b[0;32m     10\u001b[0m     \u001b[0mys_imp\u001b[0m\u001b[1;33m[\u001b[0m\u001b[0mkey\u001b[0m\u001b[1;33m]\u001b[0m \u001b[1;33m=\u001b[0m \u001b[0mdfs_imp\u001b[0m\u001b[1;33m[\u001b[0m\u001b[0mkey\u001b[0m\u001b[1;33m]\u001b[0m\u001b[1;33m[\u001b[0m\u001b[1;34m'subject'\u001b[0m\u001b[1;33m]\u001b[0m\u001b[1;33m\u001b[0m\u001b[1;33m\u001b[0m\u001b[0m\n",
      "\u001b[1;31mKeyError\u001b[0m: \"'q'\""
     ]
    }
   ],
   "source": [
    "# Split into attributes and labels\n",
    "Xs = {}\n",
    "ys = {}\n",
    "Xs_imp = {}\n",
    "ys_imp = {}\n",
    "for key in keys:\n",
    "    Xs[key] = dfs[key].drop('subject', axis=1)\n",
    "    ys[key] = dfs[key]['subject']\n",
    "    Xs_imp[key] = dfs_imp[key].drop('subject', axis=1)\n",
    "    ys_imp[key] = dfs_imp[key]['subject']"
   ]
  },
  {
   "cell_type": "code",
   "execution_count": 48,
   "id": "936088b7",
   "metadata": {},
   "outputs": [
    {
     "ename": "KeyError",
     "evalue": "\"'w'\"",
     "output_type": "error",
     "traceback": [
      "\u001b[1;31m---------------------------------------------------------------------------\u001b[0m",
      "\u001b[1;31mKeyError\u001b[0m                                  Traceback (most recent call last)",
      "\u001b[1;32m~\\AppData\\Local\\Temp\\ipykernel_16792\\1873802759.py\u001b[0m in \u001b[0;36m<module>\u001b[1;34m\u001b[0m\n\u001b[0;32m     11\u001b[0m     \u001b[0mskfs\u001b[0m\u001b[1;33m[\u001b[0m\u001b[0mkey\u001b[0m\u001b[1;33m]\u001b[0m\u001b[1;33m.\u001b[0m\u001b[0mget_n_splits\u001b[0m\u001b[1;33m(\u001b[0m\u001b[0mXs\u001b[0m\u001b[1;33m,\u001b[0m \u001b[0mys\u001b[0m\u001b[1;33m)\u001b[0m\u001b[1;33m\u001b[0m\u001b[1;33m\u001b[0m\u001b[0m\n\u001b[0;32m     12\u001b[0m \u001b[1;33m\u001b[0m\u001b[0m\n\u001b[1;32m---> 13\u001b[1;33m     \u001b[1;32mif\u001b[0m \u001b[0mlen\u001b[0m\u001b[1;33m(\u001b[0m\u001b[0mXs\u001b[0m\u001b[1;33m[\u001b[0m\u001b[0mkey\u001b[0m\u001b[1;33m]\u001b[0m\u001b[1;33m)\u001b[0m \u001b[1;33m>=\u001b[0m \u001b[1;36m3\u001b[0m \u001b[1;32mand\u001b[0m \u001b[0mlen\u001b[0m\u001b[1;33m(\u001b[0m\u001b[0mset\u001b[0m\u001b[1;33m(\u001b[0m\u001b[0mys\u001b[0m\u001b[1;33m[\u001b[0m\u001b[0mkey\u001b[0m\u001b[1;33m]\u001b[0m\u001b[1;33m)\u001b[0m\u001b[1;33m)\u001b[0m \u001b[1;33m>=\u001b[0m \u001b[1;36m3\u001b[0m\u001b[1;33m:\u001b[0m\u001b[1;33m\u001b[0m\u001b[1;33m\u001b[0m\u001b[0m\n\u001b[0m\u001b[0;32m     14\u001b[0m         \u001b[1;32mfor\u001b[0m \u001b[0mtrain_index\u001b[0m\u001b[1;33m,\u001b[0m \u001b[0mtest_index\u001b[0m \u001b[1;32min\u001b[0m \u001b[0mskfs\u001b[0m\u001b[1;33m[\u001b[0m\u001b[0mkey\u001b[0m\u001b[1;33m]\u001b[0m\u001b[1;33m.\u001b[0m\u001b[0msplit\u001b[0m\u001b[1;33m(\u001b[0m\u001b[0mXs\u001b[0m\u001b[1;33m[\u001b[0m\u001b[0mkey\u001b[0m\u001b[1;33m]\u001b[0m\u001b[1;33m,\u001b[0m \u001b[0mys\u001b[0m\u001b[1;33m[\u001b[0m\u001b[0mkey\u001b[0m\u001b[1;33m]\u001b[0m\u001b[1;33m)\u001b[0m\u001b[1;33m:\u001b[0m\u001b[1;33m\u001b[0m\u001b[1;33m\u001b[0m\u001b[0m\n\u001b[0;32m     15\u001b[0m             \u001b[0mX_train\u001b[0m\u001b[1;33m,\u001b[0m \u001b[0mX_test\u001b[0m \u001b[1;33m=\u001b[0m \u001b[0mXs\u001b[0m\u001b[1;33m[\u001b[0m\u001b[0mkey\u001b[0m\u001b[1;33m]\u001b[0m\u001b[1;33m.\u001b[0m\u001b[0mloc\u001b[0m\u001b[1;33m[\u001b[0m\u001b[0mtrain_index\u001b[0m\u001b[1;33m]\u001b[0m\u001b[1;33m,\u001b[0m \u001b[0mXs\u001b[0m\u001b[1;33m[\u001b[0m\u001b[0mkey\u001b[0m\u001b[1;33m]\u001b[0m\u001b[1;33m.\u001b[0m\u001b[0mloc\u001b[0m\u001b[1;33m[\u001b[0m\u001b[0mtest_index\u001b[0m\u001b[1;33m]\u001b[0m\u001b[1;33m\u001b[0m\u001b[1;33m\u001b[0m\u001b[0m\n",
      "\u001b[1;31mKeyError\u001b[0m: \"'w'\""
     ]
    }
   ],
   "source": [
    "skfs = {}\n",
    "svm_scores = {}\n",
    "knn_scores = {}\n",
    "svc_ms = {}\n",
    "\n",
    "for key in keys:\n",
    "    svm_scores[key] = []\n",
    "    knn_scores[key] = []\n",
    "\n",
    "    skfs[key] = StratifiedKFold(n_splits=4, random_state=101, shuffle=True)\n",
    "    skfs[key].get_n_splits(Xs, ys)\n",
    "    \n",
    "    if len(Xs[key]) >= 3 and len(set(ys[key])) >= 3:\n",
    "        for train_index, test_index in skfs[key].split(Xs[key], ys[key]):\n",
    "            X_train, X_test = Xs[key].loc[train_index], Xs[key].loc[test_index]\n",
    "            y_train, y_test = ys[key][train_index], ys[key][test_index]\n",
    "\n",
    "            svc_m = SVC().fit(X_train, y_train)\n",
    "            svc_ms[key] = svc_m\n",
    "            knn_m = KNeighborsClassifier(n_neighbors=5).fit(X_train, y_train)\n",
    "\n",
    "            svm_scores[key].append(accuracy_score(y_test, svc_m.predict(X_test)))\n",
    "            knn_scores[key].append(accuracy_score(y_test, knn_m.predict(X_test)))"
   ]
  },
  {
   "cell_type": "code",
   "execution_count": 49,
   "id": "8a498085",
   "metadata": {},
   "outputs": [
    {
     "name": "stdout",
     "output_type": "stream",
     "text": [
      "{}\n"
     ]
    },
    {
     "ename": "ZeroDivisionError",
     "evalue": "float division by zero",
     "output_type": "error",
     "traceback": [
      "\u001b[1;31m---------------------------------------------------------------------------\u001b[0m",
      "\u001b[1;31mZeroDivisionError\u001b[0m                         Traceback (most recent call last)",
      "\u001b[1;32m~\\AppData\\Local\\Temp\\ipykernel_16792\\1414939016.py\u001b[0m in \u001b[0;36m<module>\u001b[1;34m\u001b[0m\n\u001b[0;32m     23\u001b[0m \u001b[1;33m\u001b[0m\u001b[0m\n\u001b[0;32m     24\u001b[0m \u001b[1;33m\u001b[0m\u001b[0m\n\u001b[1;32m---> 25\u001b[1;33m \u001b[0mavg\u001b[0m \u001b[1;33m=\u001b[0m \u001b[0mfloat\u001b[0m\u001b[1;33m(\u001b[0m\u001b[0mscore_sum\u001b[0m\u001b[1;33m)\u001b[0m \u001b[1;33m/\u001b[0m \u001b[0mfloat\u001b[0m\u001b[1;33m(\u001b[0m\u001b[0mscore_amount\u001b[0m\u001b[1;33m)\u001b[0m\u001b[1;33m\u001b[0m\u001b[1;33m\u001b[0m\u001b[0m\n\u001b[0m\u001b[0;32m     26\u001b[0m \u001b[1;31m#print(\"SVM: \" + str(avg))\u001b[0m\u001b[1;33m\u001b[0m\u001b[1;33m\u001b[0m\u001b[0m\n\u001b[0;32m     27\u001b[0m \u001b[0mscore_amount\u001b[0m \u001b[1;33m=\u001b[0m \u001b[1;36m0.\u001b[0m\u001b[1;33m\u001b[0m\u001b[1;33m\u001b[0m\u001b[0m\n",
      "\u001b[1;31mZeroDivisionError\u001b[0m: float division by zero"
     ]
    }
   ],
   "source": [
    "avg_keys = {}\n",
    "for key, values in knn_scores.items():\n",
    "    amount = 0\n",
    "    ssum = 0\n",
    "    for value in values:\n",
    "        ssum = ssum + float(value)\n",
    "        amount = amount + 1.\n",
    "    if amount != 0:\n",
    "        avg_keys[key] = float(ssum) / float(amount)\n",
    "        \n",
    "avg_keys = dict((k, v) for k, v in avg_keys.items() if v >= 0.55)\n",
    "score_amount = 0.\n",
    "score_sum = 0.\n",
    "for key, values in svm_scores.items():\n",
    "    if key in avg_keys:\n",
    "        for value in values:\n",
    "            score_sum = score_sum + float(value)\n",
    "            score_amount = score_amount + 1.\n",
    "            \n",
    "avg = float(score_sum) / float(score_amount)\n",
    "score_amount = 0.\n",
    "score_sum = 0.\n",
    "for key, values in knn_scores.items():\n",
    "    if key in avg_keys:\n",
    "        for value in values:\n",
    "            score_sum = score_sum + float(value)\n",
    "            score_amount = score_amount + 1.\n",
    "avg = float(score_sum) / float(score_amount)"
   ]
  },
  {
   "cell_type": "code",
   "execution_count": 50,
   "id": "78dbc955",
   "metadata": {},
   "outputs": [],
   "source": [
    "def get_prediction_for_user(user_id):\n",
    "    predicted_impostor = 0\n",
    "    predicted_not_impostor = 0\n",
    "    for key in avg_keys:    \n",
    "        for row in csv_imp[key].split('\\n'):\n",
    "            if row != 'subject,duration,prev_time,next_time':\n",
    "                rowValues = row.split(',')\n",
    "                rowValuesNumb = [[float(rowValues[1]), float(rowValues[2]), float(rowValues[3])]]\n",
    "                if int(user_id) == int(svc_ms[key].predict(rowValuesNumb)[0]):\n",
    "                    predicted_impostor = predicted_impostor + 1\n",
    "                else:\n",
    "                    predicted_not_impostor = predicted_not_impostor + 1\n",
    "    percentage_for_user = float(predicted_impostor) / float(predicted_impostor + predicted_not_impostor)\n",
    "    return percentage_for_user\n",
    "    "
   ]
  },
  {
   "cell_type": "code",
   "execution_count": 51,
   "id": "c37316db",
   "metadata": {},
   "outputs": [
    {
     "ename": "IndexError",
     "evalue": "list index out of range",
     "output_type": "error",
     "traceback": [
      "\u001b[1;31m---------------------------------------------------------------------------\u001b[0m",
      "\u001b[1;31mIndexError\u001b[0m                                Traceback (most recent call last)",
      "\u001b[1;32m~\\AppData\\Local\\Temp\\ipykernel_16792\\3379793702.py\u001b[0m in \u001b[0;36m<module>\u001b[1;34m\u001b[0m\n\u001b[1;32m----> 1\u001b[1;33m \u001b[0moutput\u001b[0m \u001b[1;33m=\u001b[0m \u001b[0mimpostor_file_name\u001b[0m\u001b[1;33m.\u001b[0m\u001b[0msplit\u001b[0m\u001b[1;33m(\u001b[0m\u001b[1;34m'_'\u001b[0m\u001b[1;33m)\u001b[0m\u001b[1;33m[\u001b[0m\u001b[1;36m1\u001b[0m\u001b[1;33m]\u001b[0m \u001b[1;33m+\u001b[0m \u001b[1;34m'\\n'\u001b[0m\u001b[1;33m\u001b[0m\u001b[1;33m\u001b[0m\u001b[0m\n\u001b[0m\u001b[0;32m      2\u001b[0m \u001b[1;32mfor\u001b[0m \u001b[0mkey\u001b[0m\u001b[1;33m,\u001b[0m \u001b[0mvalue\u001b[0m \u001b[1;32min\u001b[0m \u001b[0musers_to_id\u001b[0m\u001b[1;33m.\u001b[0m\u001b[0mitems\u001b[0m\u001b[1;33m(\u001b[0m\u001b[1;33m)\u001b[0m\u001b[1;33m:\u001b[0m\u001b[1;33m\u001b[0m\u001b[1;33m\u001b[0m\u001b[0m\n\u001b[0;32m      3\u001b[0m     \u001b[0moutput\u001b[0m \u001b[1;33m=\u001b[0m \u001b[0moutput\u001b[0m \u001b[1;33m+\u001b[0m \u001b[1;34mf\"{key}: {get_prediction_for_user(value)}\\n\"\u001b[0m\u001b[1;33m\u001b[0m\u001b[1;33m\u001b[0m\u001b[0m\n\u001b[0;32m      4\u001b[0m \u001b[1;33m\u001b[0m\u001b[0m\n\u001b[0;32m      5\u001b[0m \u001b[1;32mwith\u001b[0m \u001b[0mopen\u001b[0m\u001b[1;33m(\u001b[0m\u001b[1;34m'pylogger_output.txt'\u001b[0m\u001b[1;33m,\u001b[0m \u001b[1;34m'w'\u001b[0m\u001b[1;33m)\u001b[0m \u001b[1;32mas\u001b[0m \u001b[0mfile\u001b[0m\u001b[1;33m:\u001b[0m\u001b[1;33m\u001b[0m\u001b[1;33m\u001b[0m\u001b[0m\n",
      "\u001b[1;31mIndexError\u001b[0m: list index out of range"
     ]
    }
   ],
   "source": [
    "output = impostor_file_name.split('_')[1] + '\\n'\n",
    "for key, value in users_to_id.items():\n",
    "    output = output + f\"{key}: {get_prediction_for_user(value)}\\n\"\n",
    "    \n",
    "with open('pylogger_output.txt', 'w') as file:\n",
    "   file.write(output)"
   ]
  }
 ],
 "metadata": {
  "kernelspec": {
   "display_name": "Python 3 (ipykernel)",
   "language": "python",
   "name": "python3"
  },
  "language_info": {
   "codemirror_mode": {
    "name": "ipython",
    "version": 3
   },
   "file_extension": ".py",
   "mimetype": "text/x-python",
   "name": "python",
   "nbconvert_exporter": "python",
   "pygments_lexer": "ipython3",
   "version": "3.9.13"
  }
 },
 "nbformat": 4,
 "nbformat_minor": 5
}
